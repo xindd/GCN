{
 "cells": [
  {
   "cell_type": "code",
   "execution_count": 1,
   "metadata": {},
   "outputs": [],
   "source": [
    "from collections import namedtuple\n",
    "from networkx import read_edgelist, set_node_attributes\n",
    "from pandas import read_csv, Series\n",
    "from numpy import array\n",
    "from networkx import to_numpy_matrix, degree_centrality, betweenness_centrality, shortest_path_length\n",
    "import mxnet.ndarray as nd\n",
    "from sklearn.metrics import classification_report\n",
    "from mxnet.gluon import HybridBlock"
   ]
  },
  {
   "cell_type": "code",
   "execution_count": 4,
   "metadata": {},
   "outputs": [],
   "source": [
    "class SpectralRule(HybridBlock):\n",
    "    def __init__(self, A, in_units, out_units, activation='relu', **kwargs):\n",
    "        super().__init__(**kwargs)\n",
    "        I = nd.eye(*A.shape)\n",
    "        A_hat = A.copy() + I\n",
    "\n",
    "        D = nd.sum(A_hat, axis=0)\n",
    "        D_inv = D**-0.5\n",
    "        D_inv = nd.diag(D_inv)\n",
    "\n",
    "        A_hat = D_inv * A_hat * D_inv\n",
    "        \n",
    "        self.in_units, self.out_units = in_units, out_units\n",
    "        \n",
    "        with self.name_scope():\n",
    "            self.A_hat = self.params.get_constant('A_hat', A_hat)\n",
    "            self.W = self.params.get(\n",
    "                'W', shape=(self.in_units, self.out_units)\n",
    "            )\n",
    "            if activation == 'identity':\n",
    "                self.activation = lambda X: X\n",
    "            else:\n",
    "                self.activation = Activation(activation)\n",
    "\n",
    "    def hybrid_forward(self, F, X, A_hat, W):\n",
    "        aggregate = F.dot(A_hat, X)\n",
    "        propagate = self.activation(\n",
    "            F.dot(aggregate, W))\n",
    "        return propagate"
   ]
  },
  {
   "cell_type": "code",
   "execution_count": null,
   "metadata": {},
   "outputs": [],
   "source": [
    "hidden_layer_specs = [(4, 'tanh'), (2, 'tanh')] # Format: (units in layer, activation function)\n",
    "in_units = in_units=X.shape[1]\n",
    "\n",
    "features = HybridSequential()\n",
    "with features.name_scope():\n",
    "    for i, (layer_size, activation_func) in enumerate(hidden_layer_specs):\n",
    "        layer = SpectralRule(\n",
    "            A, in_units=in_units, out_units=layer_size, \n",
    "            activation=activation_func)\n",
    "        features.add(layer)\n",
    "\n",
    "        in_units = layer_size"
   ]
  },
  {
   "cell_type": "code",
   "execution_count": 2,
   "metadata": {},
   "outputs": [],
   "source": [
    "import mxnet.ndarray as nd\n",
    "from mxnet.gluon import HybridBlock, nn\n",
    "from mxnet.gluon.nn import Activation\n",
    "from mxnet.initializer import Uniform"
   ]
  },
  {
   "cell_type": "code",
   "execution_count": 3,
   "metadata": {},
   "outputs": [],
   "source": [
    "def get_dict_values(data, keys):\n",
    "    return [data[k] for k in keys]"
   ]
  },
  {
   "cell_type": "code",
   "execution_count": 62,
   "metadata": {},
   "outputs": [],
   "source": [
    "class FeaturesTransform(HybridBlock):\n",
    "    def __init__(self, entrylist, gene_to_index, entry_to_gene, activation='relu', **kwargs):\n",
    "        super().__init__(**kwargs)\n",
    "        self.layer_list = []\n",
    "        with self.name_scope():\n",
    "            for index, value in enumerate(entrylist):\n",
    "                genelist = entry_to_gene[value].split(',')\n",
    "                w = self.params.get(value, shape=(1, len(genelist)))\n",
    "                self.layer_list.append((get_dict_values(gene_to_index, genelist),w))\n",
    "                \n",
    "            self.entry_b = self.params.get('entry_b', shape=(len(entrylist),1))\n",
    "            \n",
    "            if activation == 'identity':\n",
    "                self.activation = lambda X: X\n",
    "            else:\n",
    "                self.activation = Activation(activation)\n",
    "                \n",
    "    def hybrid_forward(self, F, X, entry_b):\n",
    "        # Change shape of b to comply with MXnet addition API\n",
    "        contactlist = []\n",
    "        for index, param in self.layer_list:\n",
    "            contactlist.append(F.dot(param.data(), X[index,:]))\n",
    "        y = nd.concat(*contactlist, dim=0) + entry_b\n",
    "        return self.activation(y)"
   ]
  },
  {
   "cell_type": "code",
   "execution_count": 75,
   "metadata": {},
   "outputs": [],
   "source": [
    "tmp = {'a': '1,2,3', 'b':'1,3,4', 'c':'2,1'}\n",
    "gl = ['1', '2', '3', '4']\n",
    "gl = dict(zip(gl, list(range(len(gl)))))\n",
    "x = nd.array([[3,5,7,9],[3,5,7,9]]).reshape(4,2)\n",
    "model = FeaturesTransform(tmp.keys(), gl, tmp, 'tanh')\n",
    "model.initialize(Uniform(1))"
   ]
  },
  {
   "cell_type": "code",
   "execution_count": 76,
   "metadata": {},
   "outputs": [],
   "source": [
    "res = model(x)"
   ]
  },
  {
   "cell_type": "code",
   "execution_count": 77,
   "metadata": {},
   "outputs": [
    {
     "data": {
      "text/plain": [
       "\n",
       "[[ 0.55201644  0.94704884]\n",
       " [-0.9999972  -1.        ]\n",
       " [-0.5160213   0.4451802 ]]\n",
       "<NDArray 3x2 @cpu(0)>"
      ]
     },
     "execution_count": 77,
     "metadata": {},
     "output_type": "execute_result"
    }
   ],
   "source": [
    "res"
   ]
  },
  {
   "cell_type": "code",
   "execution_count": 27,
   "metadata": {},
   "outputs": [
    {
     "ename": "AttributeError",
     "evalue": "'NDArray' object has no attribute 'concat'",
     "traceback": [
      "\u001b[1;31m---------------------------------------------------------------------------\u001b[0m",
      "\u001b[1;31mAttributeError\u001b[0m                            Traceback (most recent call last)",
      "\u001b[1;32m<ipython-input-27-22feeb7082d8>\u001b[0m in \u001b[0;36m<module>\u001b[1;34m\u001b[0m\n\u001b[1;32m----> 1\u001b[1;33m \u001b[0mres\u001b[0m\u001b[1;33m[\u001b[0m\u001b[1;36m0\u001b[0m\u001b[1;33m]\u001b[0m\u001b[1;33m.\u001b[0m\u001b[0mconcat\u001b[0m\u001b[1;33m(\u001b[0m\u001b[0mres\u001b[0m\u001b[1;33m[\u001b[0m\u001b[1;36m1\u001b[0m\u001b[1;33m]\u001b[0m\u001b[1;33m,\u001b[0m \u001b[0mdim\u001b[0m\u001b[1;33m=\u001b[0m\u001b[1;36m0\u001b[0m\u001b[1;33m)\u001b[0m\u001b[1;33m\u001b[0m\u001b[0m\n\u001b[0m",
      "\u001b[1;31mAttributeError\u001b[0m: 'NDArray' object has no attribute 'concat'"
     ],
     "output_type": "error"
    }
   ],
   "source": [
    "res[0].concat(res[1], dim=0)"
   ]
  },
  {
   "cell_type": "code",
   "execution_count": 41,
   "metadata": {},
   "outputs": [
    {
     "data": {
      "text/plain": [
       "[0, 1]"
      ]
     },
     "execution_count": 41,
     "metadata": {},
     "output_type": "execute_result"
    }
   ],
   "source": [
    "get_dict_values(gl,('1','2'))"
   ]
  },
  {
   "cell_type": "code",
   "execution_count": 21,
   "metadata": {},
   "outputs": [
    {
     "data": {
      "text/plain": [
       "[Dense(None -> 1, linear), Dense(None -> 1, linear), Dense(None -> 1, linear)]"
      ]
     },
     "execution_count": 21,
     "metadata": {},
     "output_type": "execute_result"
    }
   ],
   "source": [
    "model.layer_list"
   ]
  }
 ],
 "metadata": {
  "kernelspec": {
   "display_name": "Python 3",
   "language": "python",
   "name": "python3"
  },
  "language_info": {
   "codemirror_mode": {
    "name": "ipython",
    "version": 3
   },
   "file_extension": ".py",
   "mimetype": "text/x-python",
   "name": "python",
   "nbconvert_exporter": "python",
   "pygments_lexer": "ipython3",
   "version": "3.6.5"
  }
 },
 "nbformat": 4,
 "nbformat_minor": 2
}

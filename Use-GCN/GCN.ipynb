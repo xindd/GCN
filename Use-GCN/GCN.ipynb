{
 "cells": [
  {
   "cell_type": "code",
   "execution_count": 2,
   "metadata": {},
   "outputs": [],
   "source": [
    "from mxnet import nd, autograd, gluon\n",
    "from mxnet.gluon import HybridBlock,nn, loss\n",
    "import networkx as nx\n",
    "import networkx.generators.social as socialnx\n",
    "import matplotlib.pyplot as plt\n",
    "from networkx import to_numpy_matrix\n",
    "import numpy as np\n",
    "\n",
    "import pickle as pkl\n",
    "import sys\n",
    "import scipy.sparse as sp"
   ]
  },
  {
   "cell_type": "code",
   "execution_count": 3,
   "metadata": {},
   "outputs": [],
   "source": [
    "class GraphConvolution(nn.Block):\n",
    "    # 声明带有模型参数的层，这里声明了两个全连接层\n",
    "    def __init__(self, A, in_units, out_units, activation, **kwargs):\n",
    "        super(GraphConvolution, self).__init__(**kwargs)\n",
    "        I = nd.eye(*A.shape)\n",
    "        A_hat = A.copy() + I\n",
    "        \n",
    "        D = nd.sum(A_hat, axis=0)\n",
    "        D_inv = D ** -0.5\n",
    "        D_inv = nd.diag(D_inv)\n",
    "        A_hat  = D_inv * A_hat * D_inv\n",
    "        self.in_units, self.out_units = in_units, out_units\n",
    "        with self.name_scope():\n",
    "            self.A_hat = self.params.get_constant('A_hat ', A_hat)\n",
    "            self.W = self.params.get('W', shape=(self.in_units, self.out_units))\n",
    "            if activation == 'ident':\n",
    "                self.activation = lambda X: X\n",
    "            else:\n",
    "                self.activation = nn.Activation(activation)\n",
    "\n",
    "    def forward(self, x):\n",
    "        aggregate = nd.dot(self.A_hat.data(), x)\n",
    "        propagate = self.activation(nd.dot(aggregate, self.W.data()))\n",
    "        return propagate"
   ]
  },
  {
   "cell_type": "code",
   "execution_count": 4,
   "metadata": {},
   "outputs": [],
   "source": [
    "class MLP(nn.Block):\n",
    "    # 声明带有模型参数的层，这里声明了两个全连接层\n",
    "    def __init__(self, in_units, out_units, **kwargs):\n",
    "        super(MLP, self).__init__(**kwargs)\n",
    "        with self.name_scope():\n",
    "            self.w = self.params.get('w', shape=(in_units, out_units))\n",
    "            self.b = self.params.get('b', shape=(out_units, ))\n",
    "    # 定义模型的前向计算，即如何根据输入x计算返回所需要的模型输出\n",
    "    def forward(self, x):\n",
    "        return nd.dot(x.reshape(shape=(-1,)), self.w.data()) + self.b.data()"
   ]
  },
  {
   "cell_type": "code",
   "execution_count": 5,
   "metadata": {},
   "outputs": [],
   "source": [
    "def showData(output):\n",
    "    for i in range (34):\n",
    "        if G.nodes[i]['club'] == 'Mr. Hi':\n",
    "            plt.scatter(np.array(output)[i,0],np.array(output)[i,1] ,label=str(i),color = 'b',alpha=0.5,s = 250)\n",
    "            plt.text(np.array(output)[i,0],np.array(output)[i,1] ,i, horizontalalignment='center',verticalalignment='center', fontdict={'color':'black'})\n",
    "            # 为每个点添加标签，一些形如（x轴，y轴，标签）的元组，水平及垂直位置，背景颜色\n",
    "        else:\n",
    "            plt.scatter(np.array(output)[i,0],np.array(output)[i,1] ,label = 'i',color = 'r',alpha=0.5,s = 250)\n",
    "            plt.text(np.array(output)[i,0],np.array(output)[i,1] ,i, horizontalalignment='center',verticalalignment='center', fontdict={'color':'black'})\n",
    "            # plt.scatter(np.array(output)[:,0],np.array(output)[:,1],label = 0:33)\n"
   ]
  },
  {
   "cell_type": "code",
   "execution_count": 6,
   "metadata": {
    "scrolled": true
   },
   "outputs": [
    {
     "data": {
      "image/png": "[encoded data removed]",
      "text/plain": [
       "<Figure size 432x288 with 1 Axes>"
      ]
     },
     "metadata": {
      "needs_background": "light"
     },
     "output_type": "display_data"
    }
   ],
   "source": [
    "G = socialnx.karate_club_graph()\n",
    "order = sorted(list(G.nodes()))\n",
    "A = nd.array(to_numpy_matrix(G, nodelist=order))\n",
    "net = GraphConvolution(A, in_units=2, out_units=2, activation='tanh')\n",
    "net.initialize()\n",
    "X = nd.random.normal(shape=(G.number_of_nodes(),2))\n",
    "res = net(X).asnumpy()\n",
    "showData(res)"
   ]
  },
  {
   "cell_type": "code",
   "execution_count": 7,
   "metadata": {},
   "outputs": [
    {
     "data": {
      "text/plain": [
       "\n",
       "[[ 0.29956347  0.15302546]\n",
       " [-1.1688148   1.558071  ]\n",
       " [-0.5459446  -2.3556297 ]\n",
       " [ 0.54144025  2.6785064 ]\n",
       " [ 1.2546344  -0.54877406]\n",
       " [-0.68106437 -0.1353156 ]\n",
       " [ 0.37723133  0.41016456]\n",
       " [ 0.5712682  -2.7579627 ]\n",
       " [ 1.07628    -0.6141325 ]\n",
       " [ 1.8307649  -1.1468065 ]\n",
       " [ 0.05383794 -2.5074806 ]\n",
       " [-0.5916499   0.85860497]\n",
       " [-0.22794183  0.20131476]\n",
       " [ 0.3500547   0.5360521 ]\n",
       " [ 1.5194443   1.9040879 ]\n",
       " [-1.5734432  -0.14007866]\n",
       " [ 0.29670075  1.3111951 ]\n",
       " [ 0.15606561 -0.56803983]\n",
       " [-0.8062886  -1.200044  ]\n",
       " [-1.1877518  -0.15346648]\n",
       " [ 0.13385749 -0.7531863 ]\n",
       " [ 1.9670967  -1.3998121 ]\n",
       " [ 0.43909982 -0.46219134]\n",
       " [ 0.25316575 -2.302824  ]\n",
       " [ 1.6881202  -0.6523198 ]\n",
       " [ 0.89039123 -0.27633253]\n",
       " [ 1.9417537   0.7879354 ]\n",
       " [-0.85567254 -0.8239901 ]\n",
       " [ 0.5187018   0.15364595]\n",
       " [ 1.0113305  -0.42647716]\n",
       " [ 0.6850326   1.174712  ]\n",
       " [ 1.3677438   1.0384175 ]\n",
       " [-1.7305615   0.6770596 ]\n",
       " [-2.5028148  -0.28589353]]\n",
       "<NDArray 34x2 @cpu(0)>"
      ]
     },
     "execution_count": 7,
     "metadata": {},
     "output_type": "execute_result"
    }
   ],
   "source": [
    "X"
   ]
  },
  {
   "cell_type": "code",
   "execution_count": 42,
   "metadata": {},
   "outputs": [],
   "source": [
    "layer1 = GraphConvolution(A, in_units=2, out_units=4, activation='tanh')\n",
    "layer2 = GraphConvolution(A, in_units=4, out_units=1, activation='tanh')\n",
    "net = nn.Sequential()\n",
    "net.add(layer1, layer2, MLP(34,34))\n",
    "net.initialize()\n",
    "#net(X)\n",
    "#net.collect_params()"
   ]
  },
  {
   "cell_type": "code",
   "execution_count": 45,
   "metadata": {},
   "outputs": [],
   "source": [
    "cross_entropy = loss.SigmoidBinaryCrossEntropyLoss(from_sigmoid=True)\n",
    "trainer = gluon.trainer.Trainer(net.collect_params(), 'sgd', {'learning_rate': 0.001, 'momentum': 1})"
   ]
  },
  {
   "cell_type": "code",
   "execution_count": null,
   "metadata": {},
   "outputs": [],
   "source": [
    "feature_representations = [features(X).asnumpy()]\n",
    "for e in range(1, epochs + 1):\n",
    "    for i, x in enumerate(X_train):\n",
    "        y = array(y_train)[i]\n",
    "        with autograd.record():\n",
    "            pred = model(X)[x] # Get prediction for sample x\n",
    "            loss = cross_entropy(pred, y)\n",
    "        loss.backward()\n",
    "        trainer.step(1)        \n",
    "    feature_representations.append(features(X).asnumpy())\n"
   ]
  },
  {
   "cell_type": "code",
   "execution_count": null,
   "metadata": {},
   "outputs": [],
   "source": [
    "feature_repressentations = [features(X).assnumpy()]\n",
    "for e in range(1, epochs + 1):\n",
    "    for i, x in enumerate(X_tarin):\n",
    "        with autograd.record():\n",
    "            preds = model(X)[x]\n",
    "            loss = cross_entropy(preds, y)\n",
    "        loss.backward()\n",
    "        trainer.step(1)\n",
    "    feature_repressentations.append(features(X).asnumpy())"
   ]
  },
  {
   "cell_type": "code",
   "execution_count": 71,
   "metadata": {},
   "outputs": [],
   "source": [
    "def build_features(A, in_units):\n",
    "    hidden_layer_specs = [(4, 'tanh'), (1, 'tanh')]\n",
    "    features = nn.Sequential()\n",
    "    with features.name_scope():\n",
    "        for layer_size, activation_func in hidden_layer_specs:\n",
    "            layer = GraphConvolution(A, in_units=in_units, out_units=layer_size, activation=activation_func)\n",
    "            features.add(layer)\n",
    "            in_units = layer_size\n",
    "    return features"
   ]
  },
  {
   "cell_type": "code",
   "execution_count": 81,
   "metadata": {},
   "outputs": [],
   "source": [
    "def build_model(A, in_units):\n",
    "    model = nn.Sequential()\n",
    "    with model.name_scope():\n",
    "        features = build_features(A, in_units)\n",
    "        model.add(features)\n",
    "        model.add(nn.Dense(4))\n",
    "        model.initialize()\n",
    "    return model, features"
   ]
  },
  {
   "cell_type": "code",
   "execution_count": 82,
   "metadata": {},
   "outputs": [],
   "source": [
    "model, features = build_model(A, X.shape[1])"
   ]
  },
  {
   "cell_type": "code",
   "execution_count": 83,
   "metadata": {},
   "outputs": [
    {
     "data": {
      "text/plain": [
       "\n",
       "[[ 1.51442451e-04 -1.17235802e-04  8.90990123e-05 -2.42315655e-05]\n",
       " [ 1.58019218e-04 -1.22327052e-04  9.29683592e-05 -2.52838818e-05]\n",
       " [-3.80426318e-05  2.94498550e-05 -2.23818406e-05  6.08701521e-06]\n",
       " [ 4.62064672e-05 -3.57697099e-05  2.71849185e-05 -7.39327061e-06]\n",
       " [ 1.92762654e-05 -1.49222915e-05  1.13409160e-05 -3.08430094e-06]\n",
       " [ 8.15214880e-05 -6.31080475e-05  4.79620066e-05 -1.30438548e-05]\n",
       " [ 6.22751395e-05 -4.82089126e-05  3.66386921e-05 -9.96434028e-06]\n",
       " [ 4.56077869e-05 -3.53062533e-05  2.68326930e-05 -7.29747899e-06]\n",
       " [-8.43842427e-05  6.53241877e-05 -4.96462708e-05  1.35019109e-05]\n",
       " [-1.79432427e-05  1.38903624e-05 -1.05566514e-05  2.87101057e-06]\n",
       " [ 4.26944234e-06 -3.30509397e-06  2.51186589e-06 -6.83132612e-07]\n",
       " [ 2.15344676e-06 -1.66704297e-06  1.26694988e-06 -3.44562494e-07]\n",
       " [-1.34185839e-05  1.03876982e-05 -7.89463320e-06  2.14704210e-06]\n",
       " [ 2.52240934e-05 -1.95266712e-05  1.48402360e-05 -4.03598369e-06]\n",
       " [-1.07288244e-04  8.30548088e-05 -6.31215153e-05  1.71666670e-05]\n",
       " [-1.25539649e-04  9.71837289e-05 -7.38594681e-05  2.00869854e-05]\n",
       " [ 7.13519767e-05 -5.52355486e-05  4.19789212e-05 -1.14166814e-05]\n",
       " [ 9.94491711e-05 -7.69863618e-05  5.85095077e-05 -1.59123756e-05]\n",
       " [-7.90920385e-05  6.12273361e-05 -4.65326739e-05  1.26551295e-05]\n",
       " [ 3.77877986e-05 -2.92525838e-05  2.22319140e-05 -6.04624120e-06]\n",
       " [-4.39507130e-05  3.40234656e-05 -2.58577766e-05  7.03233854e-06]\n",
       " [ 5.99042032e-05 -4.63735050e-05  3.52437855e-05 -9.58497822e-06]\n",
       " [-1.01654827e-04  7.86938181e-05 -5.98071711e-05  1.62652923e-05]\n",
       " [-1.41081866e-04  1.09215391e-04 -8.30035133e-05  2.25738204e-05]\n",
       " [-1.21173534e-05  9.38038011e-06 -7.12907286e-06  1.93883852e-06]\n",
       " [ 1.09250668e-05 -8.45739760e-06  6.42760779e-06 -1.74806655e-06]\n",
       " [-9.34579220e-05  7.23483754e-05 -5.49846409e-05  1.49537454e-05]\n",
       " [-4.25543512e-05  3.29425056e-05 -2.50362464e-05  6.80891344e-06]\n",
       " [-5.81172171e-05  4.49901490e-05 -3.41924388e-05  9.29905218e-06]\n",
       " [-1.39644864e-04  1.08102962e-04 -8.21580688e-05  2.23438929e-05]\n",
       " [-5.75179911e-05  4.45262740e-05 -3.38398931e-05  9.20317234e-06]\n",
       " [-6.73728646e-05  5.21552029e-05 -3.96378673e-05  1.07800024e-05]\n",
       " [-2.76721374e-04  2.14217696e-04 -1.62805081e-04  4.42768360e-05]\n",
       " [-3.07883340e-04  2.38341046e-04 -1.81138792e-04  4.92629115e-05]]\n",
       "<NDArray 34x4 @cpu(0)>"
      ]
     },
     "execution_count": 83,
     "metadata": {},
     "output_type": "execute_result"
    }
   ],
   "source": [
    "model(X)"
   ]
  },
  {
   "cell_type": "code",
   "execution_count": 101,
   "metadata": {},
   "outputs": [],
   "source": [
    "cross_entropy = loss.SigmoidBinaryCrossEntropyLoss(from_sigmoid=True)\n",
    "trainer = gluon.Trainer(model.collect_params(), 'sgd', {'learning_rate': 0.001, 'momentum': 1})"
   ]
  },
  {
   "cell_type": "code",
   "execution_count": null,
   "metadata": {},
   "outputs": [],
   "source": [
    "def train(model, features, X, X_train, y_train, epochs):\n",
    "    feature_repressentations = [features(X).assnumpy()]\n",
    "    for e in range(1, epochs + 1):\n",
    "        for i, x in enumerate(X_tarin):\n",
    "            with autograd.record():\n",
    "                preds = model(X)[x]\n",
    "                loss = cross_entropy(preds, y)\n",
    "            loss.backward()\n",
    "            trainer.step(1)\n",
    "        feature_repressentations.append(features(X).asnumpy())\n",
    "    return feature_repressentations"
   ]
  },
  {
   "cell_type": "code",
   "execution_count": 85,
   "metadata": {
    "scrolled": true
   },
   "outputs": [
    {
     "data": {
      "text/plain": [
       "(Sequential(\n",
       "   (0): Sequential(\n",
       "     (0): GraphConvolution(\n",
       "       (activation): Activation(tanh)\n",
       "     )\n",
       "     (1): GraphConvolution(\n",
       "       (activation): Activation(tanh)\n",
       "     )\n",
       "   )\n",
       "   (1): Dense(None -> 2, linear)\n",
       " ), Sequential(\n",
       "   (0): GraphConvolution(\n",
       "     (activation): Activation(tanh)\n",
       "   )\n",
       "   (1): GraphConvolution(\n",
       "     (activation): Activation(tanh)\n",
       "   )\n",
       " ))"
      ]
     },
     "execution_count": 85,
     "metadata": {},
     "output_type": "execute_result"
    }
   ],
   "source": [
    "build_model(A, X)\n",
    "G = socialnx.karate_club_graph()\n",
    "order = sorted(list(G.nodes()))\n",
    "A = nd.array(to_numpy_matrix(G, nodelist=order))\n",
    "net = GraphConvolution(A, in_units=34, out_units=2, activation='tanh')\n",
    "net.initialize()\n",
    "X = nd.array(np.eye(G.number_of_nodes()))\n",
    "res = net(X).asnumpy()\n",
    "showData(res)"
   ]
  },
  {
   "cell_type": "code",
   "execution_count": 105,
   "metadata": {},
   "outputs": [
    {
     "name": "stdout",
     "output_type": "stream",
     "text": [
      "0 a\n",
      "1 b\n",
      "2 c\n"
     ]
    }
   ],
   "source": [
    "for i,j in enumerate(['a','b','c']):\n",
    "    print(i,j)"
   ]
  },
  {
   "cell_type": "code",
   "execution_count": 17,
   "metadata": {},
   "outputs": [],
   "source": [
    "def parse_index_file(filename):\n",
    "    \"\"\"Parse index file.\"\"\"\n",
    "    index = []\n",
    "    for line in open(filename):\n",
    "        index.append(int(line.strip()))\n",
    "    return index\n",
    "\n",
    "def sample_mask(idx, l):\n",
    "    \"\"\"Create mask.\"\"\"\n",
    "    mask = np.zeros(l)\n",
    "    mask[idx] = 1\n",
    "    return np.array(mask, dtype=np.bool)\n",
    "\n",
    "def load_data(dataset_str, root_path):\n",
    "    \"\"\"\n",
    "    Loads input data from gcn/data directory\n",
    "\n",
    "    ind.dataset_str.x => the feature vectors of the training instances as scipy.sparse.csr.csr_matrix object;\n",
    "    ind.dataset_str.tx => the feature vectors of the test instances as scipy.sparse.csr.csr_matrix object;\n",
    "    ind.dataset_str.allx => the feature vectors of both labeled and unlabeled training instances\n",
    "        (a superset of ind.dataset_str.x) as scipy.sparse.csr.csr_matrix object;\n",
    "    ind.dataset_str.y => the one-hot labels of the labeled training instances as numpy.ndarray object;\n",
    "    ind.dataset_str.ty => the one-hot labels of the test instances as numpy.ndarray object;\n",
    "    ind.dataset_str.ally => the labels for instances in ind.dataset_str.allx as numpy.ndarray object;\n",
    "    ind.dataset_str.graph => a dict in the format {index: [index_of_neighbor_nodes]} as collections.defaultdict\n",
    "        object;\n",
    "    ind.dataset_str.test.index => the indices of test instances in graph, for the inductive setting as list object.\n",
    "\n",
    "    All objects above must be saved using python pickle module.\n",
    "\n",
    "    :param dataset_str: Dataset name\n",
    "    :return: All data input files loaded (as well the training/test data).\n",
    "    \"\"\"\n",
    "    names = ['x', 'y', 'tx', 'ty', 'allx', 'ally', 'graph']\n",
    "    objects = []\n",
    "    for i in range(len(names)):\n",
    "        with open(\"{}/ind.{}.{}\".format(root_path, dataset_str, names[i]), 'rb') as f:\n",
    "            if sys.version_info > (3, 0):\n",
    "                objects.append(pkl.load(f, encoding='latin1'))\n",
    "            else:\n",
    "                objects.append(pkl.load(f))\n",
    "\n",
    "    x, y, tx, ty, allx, ally, graph = tuple(objects)\n",
    "    test_idx_reorder = parse_index_file(\"{}/ind.{}.test.index\".format(root_path,dataset_str))\n",
    "    test_idx_range = np.sort(test_idx_reorder)\n",
    "\n",
    "    if dataset_str == 'citeseer':\n",
    "        # Fix citeseer dataset (there are some isolated nodes in the graph)\n",
    "        # Find isolated nodes, add them as zero-vecs into the right position\n",
    "        test_idx_range_full = range(min(test_idx_reorder), max(test_idx_reorder)+1)\n",
    "        tx_extended = sp.lil_matrix((len(test_idx_range_full), x.shape[1]))\n",
    "        tx_extended[test_idx_range-min(test_idx_range), :] = tx\n",
    "        tx = tx_extended\n",
    "        ty_extended = np.zeros((len(test_idx_range_full), y.shape[1]))\n",
    "        ty_extended[test_idx_range-min(test_idx_range), :] = ty\n",
    "        ty = ty_extended\n",
    "\n",
    "    features = sp.vstack((allx, tx)).tolil()\n",
    "    features[test_idx_reorder, :] = features[test_idx_range, :]\n",
    "    adj = nx.adjacency_matrix(nx.from_dict_of_lists(graph))\n",
    "\n",
    "    labels = np.vstack((ally, ty))\n",
    "    labels[test_idx_reorder, :] = labels[test_idx_range, :]\n",
    "\n",
    "    idx_test = test_idx_range.tolist()\n",
    "    idx_train = range(len(y))\n",
    "    idx_val = range(len(y), len(y)+500)\n",
    "\n",
    "    train_mask = sample_mask(idx_train, labels.shape[0])\n",
    "    val_mask = sample_mask(idx_val, labels.shape[0])\n",
    "    test_mask = sample_mask(idx_test, labels.shape[0])\n",
    "\n",
    "    y_train = np.zeros(labels.shape)\n",
    "    y_val = np.zeros(labels.shape)\n",
    "    y_test = np.zeros(labels.shape)\n",
    "    y_train[train_mask, :] = labels[train_mask, :]\n",
    "    y_val[val_mask, :] = labels[val_mask, :]\n",
    "    y_test[test_mask, :] = labels[test_mask, :]\n",
    "\n",
    "    return adj, features, y_train, y_val, y_test, train_mask, val_mask, test_mask"
   ]
  },
  {
   "cell_type": "code",
   "execution_count": 18,
   "metadata": {},
   "outputs": [],
   "source": [
    "names = ['x', 'y', 'tx', 'ty', 'allx', 'ally', 'graph']\n",
    "dataset_str = 'cora'\n",
    "objects = []\n",
    "for i in range(len(names)):\n",
    "    with open(\"E:/wx/2019上课题/gcn-master/gcn/data/ind.{}.{}\".format(dataset_str, names[i]), 'rb') as f:\n",
    "        if sys.version_info > (3, 0):\n",
    "            objects.append(pkl.load(f, encoding='latin1'))\n",
    "adj, features, y_train, y_val, y_test, train_mask, val_mask, test_mask = load_data('cora', \"E:/wx/2019上课题/gcn-master/gcn/data\")"
   ]
  },
  {
   "cell_type": "code",
   "execution_count": 29,
   "metadata": {},
   "outputs": [
    {
     "data": {
      "text/plain": [
       "(2708, 7)"
      ]
     },
     "execution_count": 29,
     "metadata": {},
     "output_type": "execute_result"
    }
   ],
   "source": [
    "y_train.shape"
   ]
  }
 ],
 "metadata": {
  "kernelspec": {
   "display_name": "Python 3",
   "language": "python",
   "name": "python3"
  },
  "language_info": {
   "codemirror_mode": {
    "name": "ipython",
    "version": 3
   },
   "file_extension": ".py",
   "mimetype": "text/x-python",
   "name": "python",
   "nbconvert_exporter": "python",
   "pygments_lexer": "ipython3",
   "version": "3.6.5"
  }
 },
 "nbformat": 4,
 "nbformat_minor": 2
}

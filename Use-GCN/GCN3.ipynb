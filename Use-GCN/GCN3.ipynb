{
 "cells": [
  {
   "cell_type": "code",
   "execution_count": 1,
   "metadata": {},
   "outputs": [],
   "source": [
    "from collections import namedtuple\n",
    "from networkx import read_edgelist, set_node_attributes\n",
    "from pandas import read_csv, Series\n",
    "from numpy import array\n",
    "from networkx import to_numpy_matrix, degree_centrality, betweenness_centrality, shortest_path_length\n",
    "import mxnet.ndarray as nd\n",
    "from sklearn.metrics import classification_report\n",
    "\n"
   ]
  },
  {
   "cell_type": "code",
   "execution_count": 2,
   "metadata": {},
   "outputs": [],
   "source": [
    "DataSet = namedtuple(\n",
    "    'DataSet',\n",
    "    field_names=['X_train', 'y_train', 'X_test', 'y_test', 'network']\n",
    ")\n",
    "def load_karate_club():\n",
    "    network = read_edgelist('karate.edgelist',nodetype=int)\n",
    "\n",
    "    attributes = read_csv('karate.attributes.csv', index_col=['node'])\n",
    "\n",
    "    for attribute in attributes.columns.values:\n",
    "        set_node_attributes(\n",
    "            network,\n",
    "            values=Series(attributes[attribute], index=attributes.index).to_dict(),\n",
    "            name=attribute\n",
    "        )\n",
    "\n",
    "    X_train, y_train = map(array, zip(*[([node], data['role'] == 'Administrator')for node, data in network.nodes(data=True)if data['role'] in {'Administrator', 'Instructor'}]))\n",
    "    X_test, y_test = map(array, zip(*[\n",
    "        ([node], data['community'] == 'Administrator')\n",
    "        for node, data in network.nodes(data=True)\n",
    "        if data['role'] == 'Member'\n",
    "    ]))\n",
    "    \n",
    "    return DataSet(X_train, y_train, X_test, y_test, network)"
   ]
  },
  {
   "cell_type": "code",
   "execution_count": 3,
   "metadata": {},
   "outputs": [],
   "source": [
    "zkc = load_karate_club()\n",
    "\n",
    "A = to_numpy_matrix(zkc.network)\n",
    "A = nd.array(A)\n",
    "\n",
    "X_train = zkc.X_train.flatten()\n",
    "y_train = zkc.y_train\n",
    "X_test = zkc.X_test.flatten()\n",
    "y_test = zkc.y_test"
   ]
  },
  {
   "cell_type": "code",
   "execution_count": 4,
   "metadata": {},
   "outputs": [
    {
     "data": {
      "text/plain": [
       "(array([ 0, 33]),\n",
       " array([ True, False]),\n",
       " array([ 1,  2,  3,  4,  5,  6,  7,  8, 10, 11, 12, 13, 17, 19, 21, 31, 30,\n",
       "         9, 27, 28, 32, 16, 14, 15, 18, 20, 22, 23, 25, 29, 24, 26]),\n",
       " array([ True,  True,  True,  True,  True,  True,  True,  True,  True,\n",
       "         True,  True,  True,  True,  True,  True, False, False, False,\n",
       "        False, False, False,  True, False, False, False, False, False,\n",
       "        False, False, False, False, False]))"
      ]
     },
     "execution_count": 4,
     "metadata": {},
     "output_type": "execute_result"
    }
   ],
   "source": [
    "X_train, y_train, X_test, y_test"
   ]
  },
  {
   "cell_type": "code",
   "execution_count": 5,
   "metadata": {},
   "outputs": [],
   "source": [
    "from mxnet.gluon import HybridBlock\n",
    "from mxnet.gluon.nn import Activation\n",
    "import mxnet.ndarray as nd\n",
    "\n",
    "class SpectralRule(HybridBlock):\n",
    "    def __init__(self, A, in_units, out_units, activation='relu', **kwargs):\n",
    "        super().__init__(**kwargs)\n",
    "        I = nd.eye(*A.shape)\n",
    "        A_hat = A.copy() + I\n",
    "\n",
    "        D = nd.sum(A_hat, axis=0)\n",
    "        D_inv = D**-0.5\n",
    "        D_inv = nd.diag(D_inv)\n",
    "\n",
    "        A_hat = D_inv * A_hat * D_inv\n",
    "        \n",
    "        self.in_units, self.out_units = in_units, out_units\n",
    "        \n",
    "        with self.name_scope():\n",
    "            self.A_hat = self.params.get_constant('A_hat', A_hat)\n",
    "            self.W = self.params.get(\n",
    "                'W', shape=(self.in_units, self.out_units)\n",
    "            )\n",
    "            if activation == 'identity':\n",
    "                self.activation = lambda X: X\n",
    "            else:\n",
    "                self.activation = Activation(activation)\n",
    "\n",
    "    def hybrid_forward(self, F, X, A_hat, W):\n",
    "        #print('X:', X)\n",
    "        aggregate = F.dot(A_hat, X)\n",
    "        # print('aggregate:',aggregate)\n",
    "        propagate = self.activation(\n",
    "            F.dot(aggregate, W))\n",
    "        # print('pro:', propagate)\n",
    "        return propagate"
   ]
  },
  {
   "cell_type": "code",
   "execution_count": 6,
   "metadata": {},
   "outputs": [],
   "source": [
    "class LogisticRegressor(HybridBlock):\n",
    "    def __init__(self, in_units, **kwargs):\n",
    "        super().__init__(**kwargs)\n",
    "        with self.name_scope():\n",
    "            self.w = self.params.get(\n",
    "                'w', shape=(1, in_units)\n",
    "            )\n",
    "\n",
    "            self.b = self.params.get(\n",
    "                'b', shape=(1, 1)\n",
    "            )\n",
    "\n",
    "    def hybrid_forward(self, F, X, w, b):\n",
    "        # Change shape of b to comply with MXnet addition API\n",
    "        b = F.broadcast_axis(b, axis=(0,1), size=(34, 1))\n",
    "        y = F.dot(X, w, transpose_b=True) + b\n",
    "\n",
    "        return F.sigmoid(y)"
   ]
  },
  {
   "cell_type": "code",
   "execution_count": 7,
   "metadata": {},
   "outputs": [],
   "source": [
    "from mxnet.gluon.nn import HybridSequential, Activation\n",
    "from mxnet.ndarray import array\n",
    "from mxnet.initializer import One, Uniform, Xavier\n",
    "from mxnet.gluon.loss import SigmoidBinaryCrossEntropyLoss\n",
    "\n",
    "def build_features(A, X):\n",
    "    hidden_layer_specs = [(4, 'tanh'), (2, 'tanh')] # Format: (units in layer, activation function)\n",
    "    in_units = in_units=X.shape[1]\n",
    "  \n",
    "    features = HybridSequential()\n",
    "    with features.name_scope():\n",
    "        for i, (layer_size, activation_func) in enumerate(hidden_layer_specs):\n",
    "            layer = SpectralRule(\n",
    "                A, in_units=in_units, out_units=layer_size, \n",
    "                activation=activation_func)\n",
    "            features.add(layer)\n",
    "\n",
    "            in_units = layer_size\n",
    "    return features, in_units\n",
    "\n",
    "def build_model(A, X):\n",
    "    model = HybridSequential()\n",
    "    hidden_layer_specs = [(4, 'tanh'), (2, 'tanh')]\n",
    "    in_units = in_units=X.shape[1]\n",
    "\n",
    "    with model.name_scope():\n",
    "        features, out_units = build_features(A, X)\n",
    "        model.add(features)\n",
    "\n",
    "        classifier = LogisticRegressor(out_units)\n",
    "        model.add(classifier)\n",
    "\n",
    "    #model.hybridize()\n",
    "    model.initialize(Uniform(1))\n",
    "\n",
    "    return model, features\n",
    "\n",
    "from mxnet import autograd\n",
    "from mxnet.gluon import Trainer\n",
    "from mxnet.ndarray import sum as ndsum\n",
    "import numpy as np\n",
    "\n",
    "def train(model, features, X, X_train, y_train, epochs):\n",
    "    cross_entropy = SigmoidBinaryCrossEntropyLoss(from_sigmoid=True)\n",
    "    trainer = Trainer(model.collect_params(), 'sgd', {'learning_rate': 0.001, 'momentum': 1})\n",
    "\n",
    "    feature_representations = [features(X).asnumpy()]\n",
    "\n",
    "    for e in range(1, epochs + 1):\n",
    "        cum_loss = 0\n",
    "        cum_preds = []\n",
    "\n",
    "        for i, x in enumerate(X_train):\n",
    "            y = array(y_train)[i]\n",
    "            with autograd.record():\n",
    "                preds = model(X)[x]\n",
    "                loss = cross_entropy(preds, y)\n",
    "            loss.backward()\n",
    "            trainer.step(1)\n",
    "            \n",
    "            cum_loss += loss.asscalar()\n",
    "            cum_preds += [preds.asscalar()]\n",
    "\n",
    "        feature_representations.append(features(X).asnumpy())\n",
    "            \n",
    "        if (e % (epochs//10)) == 0:\n",
    "            print(f\"Epoch {e}/{epochs} -- Loss: {cum_loss: .4f}\")\n",
    "            print(cum_preds)\n",
    "    return feature_representations\n",
    "\n",
    "def predict(model, X, nodes):\n",
    "    preds = model(X)[nodes].asnumpy().flatten()\n",
    "    return np.where(preds >= 0.5, 1, 0)"
   ]
  },
  {
   "cell_type": "code",
   "execution_count": 8,
   "metadata": {
    "collapsed": true
   },
   "outputs": [
    {
     "data": {
      "text/plain": [
       "\n",
       "[[0.5106775 ]\n",
       " [0.5095114 ]\n",
       " [0.51096225]\n",
       " [0.51542187]\n",
       " [0.523025  ]\n",
       " [0.512526  ]\n",
       " [0.511652  ]\n",
       " [0.50208426]\n",
       " [0.5050116 ]\n",
       " [0.51883554]\n",
       " [0.5406651 ]\n",
       " [0.49158806]\n",
       " [0.5110878 ]\n",
       " [0.49366304]\n",
       " [0.5026252 ]\n",
       " [0.48504698]\n",
       " [0.5104648 ]\n",
       " [0.51193994]\n",
       " [0.5220448 ]\n",
       " [0.50951165]\n",
       " [0.50140274]\n",
       " [0.5098576 ]\n",
       " [0.53033787]\n",
       " [0.51043373]\n",
       " [0.50124794]\n",
       " [0.52045095]\n",
       " [0.50941336]\n",
       " [0.49507195]\n",
       " [0.5021959 ]\n",
       " [0.5068235 ]\n",
       " [0.5085803 ]\n",
       " [0.51637703]\n",
       " [0.50986254]\n",
       " [0.5153003 ]]\n",
       "<NDArray 34x1 @cpu(0)>"
      ]
     },
     "execution_count": 8,
     "metadata": {},
     "output_type": "execute_result"
    }
   ],
   "source": [
    "X_1 = I = nd.eye(*A.shape)\n",
    "model_1, features_1 = build_model(A, X_1)\n",
    "model_1(X_1)"
   ]
  },
  {
   "cell_type": "code",
   "execution_count": 12,
   "metadata": {},
   "outputs": [
    {
     "data": {
      "text/plain": [
       "(\n",
       " [[-150.83296  ]\n",
       "  [  81.52037  ]\n",
       "  [  55.220257 ]\n",
       "  [ 169.07043  ]\n",
       "  [ -15.41812  ]\n",
       "  [ -59.24207  ]\n",
       "  [  50.74411  ]\n",
       "  [-131.73419  ]\n",
       "  [  31.17642  ]\n",
       "  [-135.66441  ]\n",
       "  [ -31.542364 ]\n",
       "  [  55.428925 ]\n",
       "  [ 190.16833  ]\n",
       "  [   3.8622863]\n",
       "  [-110.183136 ]\n",
       "  [-167.40746  ]\n",
       "  [ 141.74635  ]\n",
       "  [  -1.8059814]\n",
       "  [ -25.316008 ]\n",
       "  [ 112.59638  ]\n",
       "  [ -90.88756  ]\n",
       "  [-131.38141  ]\n",
       "  [ 138.74231  ]\n",
       "  [ -53.951225 ]\n",
       "  [ -76.41791  ]\n",
       "  [-156.1231   ]\n",
       "  [ 133.04355  ]\n",
       "  [ -22.927732 ]\n",
       "  [  20.087559 ]\n",
       "  [-162.75145  ]\n",
       "  [ -18.039165 ]\n",
       "  [ -86.46724  ]\n",
       "  [ -79.35581  ]\n",
       "  [ -55.015244 ]]\n",
       " <NDArray 34x1 @cpu(0)>, \n",
       " [[ 0.08181898 -0.05209208]\n",
       "  [-0.13581353  0.08898728]\n",
       "  [-0.11069955  0.08475491]\n",
       "  [-0.23471865  0.13322632]\n",
       "  [ 0.27971378 -0.23172826]\n",
       "  [ 0.28955343 -0.17406477]\n",
       "  [-0.28003985  0.17425856]\n",
       "  [ 0.32493928 -0.18694377]\n",
       "  [-0.20254494  0.1541065 ]\n",
       "  [ 0.40252635 -0.23586905]\n",
       "  [ 0.65845126 -0.4197737 ]\n",
       "  [-0.493513    0.29446742]\n",
       "  [-0.2763963   0.15837947]\n",
       "  [-0.24115445  0.22776651]\n",
       "  [ 0.3991946  -0.23297888]\n",
       "  [ 0.5169745  -0.31265098]\n",
       "  [-0.230463    0.13069811]\n",
       "  [ 0.05076265 -0.04888174]\n",
       "  [ 0.42946145 -0.28816134]\n",
       "  [-0.32086343  0.18413533]\n",
       "  [ 0.39367676 -0.22892159]\n",
       "  [ 0.11010721 -0.06761955]\n",
       "  [-0.51666236  0.31228015]\n",
       "  [ 0.0596818  -0.05168328]\n",
       "  [ 0.5083761  -0.30436966]\n",
       "  [ 0.5168997  -0.31256053]\n",
       "  [-0.5165287   0.3121257 ]\n",
       "  [ 0.42083105 -0.29054654]\n",
       "  [-0.4096296   0.29422316]\n",
       "  [ 0.27431065 -0.15672596]\n",
       "  [ 0.2897258  -0.23092791]\n",
       "  [ 0.31049234 -0.17876314]\n",
       "  [ 0.3881284  -0.22554256]\n",
       "  [ 0.49305558 -0.29422712]]\n",
       " <NDArray 34x2 @cpu(0)>)"
      ]
     },
     "execution_count": 12,
     "metadata": {},
     "output_type": "execute_result"
    }
   ],
   "source": [
    "x=nd.random.normal(0,89, shape=(A.shape[0], 1))\n",
    "model, features = build_model(A, x)\n",
    "x, features(x)"
   ]
  },
  {
   "cell_type": "code",
   "execution_count": 10,
   "metadata": {},
   "outputs": [
    {
     "data": {
      "text/plain": [
       "\n",
       "[[ 0.00115271  0.00100533]\n",
       " [ 0.00739512  0.00492554]\n",
       " [ 0.00893005  0.00426793]\n",
       " [ 0.02294477 -0.00480768]\n",
       " [ 0.06856859  0.03720671]\n",
       " [ 0.06206769  0.02679012]\n",
       " [ 0.08162181 -0.02067426]\n",
       " [ 0.10472786 -0.02222465]\n",
       " [ 0.01495931  0.00658276]\n",
       " [-0.05988808  0.07455433]\n",
       " [ 0.15940838  0.12557839]\n",
       " [ 0.09683067  0.05574107]\n",
       " [ 0.07486793 -0.00674766]\n",
       " [ 0.03117034  0.11757925]\n",
       " [-0.14462648  0.11453959]\n",
       " [-0.13687007  0.21653996]\n",
       " [ 0.03614068  0.00696951]\n",
       " [ 0.0684939  -0.00969149]\n",
       " [-0.03835527  0.13117279]\n",
       " [-0.03543979  0.04096816]\n",
       " [-0.02520773  0.08659706]\n",
       " [ 0.01006415  0.00118301]\n",
       " [-0.20929438  0.20674656]\n",
       " [-0.00492451  0.00492759]\n",
       " [-0.04773413  0.10945568]\n",
       " [ 0.01811827  0.08381873]\n",
       " [-0.10178322  0.17880584]\n",
       " [-0.16516505  0.14356656]\n",
       " [-0.08647727  0.13784745]\n",
       " [-0.01991447  0.05210945]\n",
       " [-0.03600809  0.08226255]\n",
       " [-0.03035933  0.03944409]\n",
       " [ 0.02222802  0.03355644]\n",
       " [-0.16568266  0.15672414]]\n",
       "<NDArray 34x2 @cpu(0)>"
      ]
     },
     "execution_count": 10,
     "metadata": {},
     "output_type": "execute_result"
    }
   ],
   "source": [
    "X_2 = nd.zeros((A.shape[0], 2))\n",
    "node_distance_instructor = shortest_path_length(zkc.network, target=33)\n",
    "node_distance_administrator = shortest_path_length(zkc.network, target=0)\n",
    "\n",
    "for node in zkc.network.nodes():\n",
    "    X_2[node][0] = node_distance_administrator[node]\n",
    "    X_2[node][1] = node_distance_instructor[node]\n",
    "X_2 = nd.concat(X_1, X_2)\n",
    "model_2, features_2 = build_model(A, X_2)\n",
    "features_2(X_2)"
   ]
  },
  {
   "cell_type": "code",
   "execution_count": 11,
   "metadata": {
    "scrolled": true
   },
   "outputs": [
    {
     "name": "stdout",
     "output_type": "stream",
     "text": [
      "Epoch 25/250 -- Loss:  1.4531\n",
      "[0.524847, 0.5544614]\n",
      "Epoch 50/250 -- Loss:  1.4037\n",
      "[0.48833233, 0.4968747]\n",
      "Epoch 75/250 -- Loss:  1.3895\n",
      "[0.45565894, 0.45308864]\n",
      "Epoch 100/250 -- Loss:  1.4008\n",
      "[0.44937667, 0.45167056]\n",
      "Epoch 125/250 -- Loss:  1.4129\n",
      "[0.4721945, 0.4844658]\n",
      "Epoch 150/250 -- Loss:  1.4040\n",
      "[0.5085821, 0.517066]\n",
      "Epoch 175/250 -- Loss:  1.3370\n",
      "[0.53832334, 0.51214755]\n",
      "Epoch 200/250 -- Loss:  1.1875\n",
      "[0.5541304, 0.44963652]\n",
      "Epoch 225/250 -- Loss:  0.9561\n",
      "[0.5700836, 0.32573143]\n",
      "Epoch 250/250 -- Loss:  0.6668\n",
      "[0.6172549, 0.16833168]\n",
      "              precision    recall  f1-score   support\n",
      "\n",
      "       False       0.75      0.94      0.83        16\n",
      "        True       0.92      0.69      0.79        16\n",
      "\n",
      "    accuracy                           0.81        32\n",
      "   macro avg       0.83      0.81      0.81        32\n",
      "weighted avg       0.83      0.81      0.81        32\n",
      "\n"
     ]
    }
   ],
   "source": [
    "feature_representations_2= train(model_2, features_2, X_2, X_train, y_train, epochs=250)\n",
    "y_pred_2 = predict(model_2, X_2, X_test)\n",
    "print(classification_report(y_test, y_pred_2))"
   ]
  },
  {
   "cell_type": "code",
   "execution_count": 24,
   "metadata": {},
   "outputs": [
    {
     "data": {
      "image/png": "[encoded data removed]",
      "text/plain": [
       "<Figure size 432x288 with 1 Axes>"
      ]
     },
     "metadata": {
      "needs_background": "light"
     },
     "output_type": "display_data"
    }
   ],
   "source": [
    "import matplotlib.pyplot as plt\n",
    "\n",
    "res = feature_representations_2[0]\n",
    "showData(res, zkc.network)\n",
    "plt.show()"
   ]
  },
  {
   "cell_type": "code",
   "execution_count": 49,
   "metadata": {},
   "outputs": [
    {
     "data": {
      "text/plain": [
       "{'role': 'Instructor', 'community': 'Instructor'}"
      ]
     },
     "execution_count": 49,
     "metadata": {},
     "output_type": "execute_result"
    }
   ],
   "source": [
    "zkc.network.nodes[33]"
   ]
  },
  {
   "cell_type": "code",
   "execution_count": 23,
   "metadata": {},
   "outputs": [],
   "source": [
    "def showData(output, G):\n",
    "    for i in range (34):\n",
    "        if G.nodes[i]['role'] == 'Administrator':\n",
    "            plt.scatter(np.array(output)[i,0],np.array(output)[i,1] ,label=str(i),color = 'yellow',alpha=0.5,s = 250)\n",
    "            plt.text(np.array(output)[i,0],np.array(output)[i,1] ,i, horizontalalignment='center',verticalalignment='center', fontdict={'color':'black'})\n",
    "        elif G.nodes[i]['role'] == 'Instructor':\n",
    "            plt.scatter(np.array(output)[i,0],np.array(output)[i,1] ,label=str(i),color = 'green',alpha=0.5,s = 250)\n",
    "            plt.text(np.array(output)[i,0],np.array(output)[i,1] ,i, horizontalalignment='center',verticalalignment='center', fontdict={'color':'black'})\n",
    "        elif G.nodes[i]['community'] == 'Administrator':\n",
    "            plt.scatter(np.array(output)[i,0],np.array(output)[i,1] ,label=str(i),color = 'b',alpha=0.5,s = 250)\n",
    "            plt.text(np.array(output)[i,0],np.array(output)[i,1] ,i, horizontalalignment='center',verticalalignment='center', fontdict={'color':'black'})\n",
    "            # 为每个点添加标签，一些形如（x轴，y轴，标签）的元组，水平及垂直位置，背景颜色\n",
    "        else:\n",
    "            plt.scatter(np.array(output)[i,0],np.array(output)[i,1] ,label = 'i',color = 'r',alpha=0.5,s = 250)\n",
    "            plt.text(np.array(output)[i,0],np.array(output)[i,1] ,i, horizontalalignment='center',verticalalignment='center', fontdict={'color':'black'})\n",
    "            # plt.scatter(np.array(output)[:,0],np.array(output)[:,1],label = 0:33)\n"
   ]
  },
  {
   "cell_type": "code",
   "execution_count": 20,
   "metadata": {},
   "outputs": [],
   "source": [
    "X_3 = nd.random.normal(shape=(zkc.network.number_of_nodes(),1))\n",
    "model_3, features_3 = build_model(A, X_3)"
   ]
  },
  {
   "cell_type": "code",
   "execution_count": 22,
   "metadata": {},
   "outputs": [
    {
     "data": {
      "text/plain": [
       "array([1, 1, 1, 1, 1, 1, 1, 1, 1, 1, 1, 1, 1, 1, 1, 1, 1, 1, 1, 1, 1, 1,\n",
       "       1, 1, 1, 1, 1, 1, 1, 1, 1, 1])"
      ]
     },
     "execution_count": 22,
     "metadata": {},
     "output_type": "execute_result"
    }
   ],
   "source": [
    "y_pred_3"
   ]
  },
  {
   "cell_type": "code",
   "execution_count": 21,
   "metadata": {},
   "outputs": [
    {
     "name": "stdout",
     "output_type": "stream",
     "text": [
      "Epoch 5/50 -- Loss:  1.5041\n",
      "[0.6656021, 0.66614586]\n",
      "Epoch 10/50 -- Loss:  1.4965\n",
      "[0.6611576, 0.66133076]\n",
      "Epoch 15/50 -- Loss:  1.4841\n",
      "[0.6530404, 0.65284634]\n",
      "Epoch 20/50 -- Loss:  1.4680\n",
      "[0.64131856, 0.64076483]\n",
      "Epoch 25/50 -- Loss:  1.4496\n",
      "[0.62612104, 0.6252215]\n",
      "Epoch 30/50 -- Loss:  1.4307\n",
      "[0.6076653, 0.6064428]\n",
      "Epoch 35/50 -- Loss:  1.4129\n",
      "[0.5862845, 0.58477354]\n",
      "Epoch 40/50 -- Loss:  1.3980\n",
      "[0.56244713, 0.5606953]\n",
      "Epoch 45/50 -- Loss:  1.3876\n",
      "[0.5367605, 0.53482795]\n",
      "Epoch 50/50 -- Loss:  1.3825\n",
      "[0.5099525, 0.5079098]\n",
      "              precision    recall  f1-score   support\n",
      "\n",
      "       False       0.00      0.00      0.00        16\n",
      "        True       0.50      1.00      0.67        16\n",
      "\n",
      "   micro avg       0.50      0.50      0.50        32\n",
      "   macro avg       0.25      0.50      0.33        32\n",
      "weighted avg       0.25      0.50      0.33        32\n",
      "\n"
     ]
    },
    {
     "name": "stderr",
     "output_type": "stream",
     "text": [
      "d:\\python36\\lib\\site-packages\\sklearn\\metrics\\classification.py:1143: UndefinedMetricWarning: Precision and F-score are ill-defined and being set to 0.0 in labels with no predicted samples.\n",
      "  'precision', 'predicted', average, warn_for)\n"
     ]
    }
   ],
   "source": [
    "feature_representations_3 = train(model_3, features_3, X_3, X_train, y_train, epochs=50)\n",
    "y_pred_3 = predict(model_3, X_3, X_test)\n",
    "print(classification_report(y_test, y_pred_3))"
   ]
  },
  {
   "cell_type": "code",
   "execution_count": null,
   "metadata": {},
   "outputs": [],
   "source": [
    "feature_representations_1 = train(model_1, features_1, X_1, X_train, y_train, epochs=5000)\n",
    "y_pred_1 = predict(model_1, X_1, X_test)\n",
    "print(classification_report(y_test, y_pred_1))"
   ]
  },
  {
   "cell_type": "code",
   "execution_count": null,
   "metadata": {},
   "outputs": [],
   "source": [
    "feature_representations_2= train(model_2, features_2, X_2, X_train, y_train, epochs=250)\n",
    "y_pred_2 = predict(model_2, X_2, X_test)\n",
    "print(classification_report(y_test, y_pred_2))"
   ]
  },
  {
   "cell_type": "code",
   "execution_count": null,
   "metadata": {},
   "outputs": [],
   "source": []
  }
 ],
 "metadata": {
  "kernelspec": {
   "display_name": "Python 3",
   "language": "python",
   "name": "python3"
  },
  "language_info": {
   "codemirror_mode": {
    "name": "ipython",
    "version": 3
   },
   "file_extension": ".py",
   "mimetype": "text/x-python",
   "name": "python",
   "nbconvert_exporter": "python",
   "pygments_lexer": "ipython3",
   "version": "3.6.5"
  }
 },
 "nbformat": 4,
 "nbformat_minor": 2
}

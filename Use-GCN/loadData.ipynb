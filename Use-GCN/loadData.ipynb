{
 "cells": [
  {
   "cell_type": "code",
   "execution_count": 1,
   "metadata": {},
   "outputs": [],
   "source": [
    "from collections import namedtuple\n",
    "from networkx import read_edgelist, set_node_attributes\n",
    "from pandas import read_csv, Series\n",
    "from numpy import array\n",
    "import pickle\n",
    "import pandas as pd\n",
    "import networkx as nx\n",
    "from mxnet import ndarray as nd"
   ]
  },
  {
   "cell_type": "code",
   "execution_count": 40,
   "metadata": {},
   "outputs": [
    {
     "name": "stderr",
     "output_type": "stream",
     "text": [
      "d:\\python36\\lib\\site-packages\\ipykernel_launcher.py:23: SettingWithCopyWarning: \n",
      "A value is trying to be set on a copy of a slice from a DataFrame.\n",
      "Try using .loc[row_indexer,col_indexer] = value instead\n",
      "\n",
      "See the caveats in the documentation: http://pandas.pydata.org/pandas-docs/stable/indexing.html#indexing-view-versus-copy\n"
     ]
    }
   ],
   "source": [
    "aa = LoadData()"
   ]
  },
  {
   "cell_type": "code",
   "execution_count": 41,
   "metadata": {},
   "outputs": [],
   "source": [
    "bb=aa.get_pathway_net()"
   ]
  },
  {
   "cell_type": "code",
   "execution_count": 59,
   "metadata": {},
   "outputs": [],
   "source": [
    "import matplotlib.pyplot as plt\n",
    "pathway_net_nx = nx.from_numpy_array(bb['A'].asnumpy())"
   ]
  },
  {
   "cell_type": "code",
   "execution_count": 60,
   "metadata": {},
   "outputs": [
    {
     "name": "stderr",
     "output_type": "stream",
     "text": [
      "d:\\python36\\lib\\site-packages\\networkx\\drawing\\nx_pylab.py:611: MatplotlibDeprecationWarning: isinstance(..., numbers.Number)\n",
      "  if cb.is_numlike(alpha):\n"
     ]
    },
    {
     "data": {
      "image/png": "[encoded data removed]",
      "text/plain": [
       "<Figure size 432x288 with 1 Axes>"
      ]
     },
     "metadata": {},
     "output_type": "display_data"
    }
   ],
   "source": [
    "fig = plt.figure()\n",
    "nx.draw(pathway_net_nx, with_labels=False,node_size=2)\n",
    "plt.show()"
   ]
  },
  {
   "cell_type": "code",
   "execution_count": 39,
   "metadata": {},
   "outputs": [],
   "source": [
    "class LoadData():\n",
    "    def __init__(self):\n",
    "        hsa2symbol = pd.read_csv('data/hsa2symbol.csv', sep=',', header=None)\n",
    "        hsa2symbol = hsa2symbol.set_index(hsa2symbol[1])\n",
    "        genelist = pd.read_csv('data/symbol_nodes.csv', sep='\\t', header=None)\n",
    "        # genelist_order\n",
    "        self.genelist_order = sorted(list(genelist[0]))\n",
    "        \n",
    "        with open('data/pathway2enzyme.pickle.txt', 'rb') as file:\n",
    "            self.enzymeDict_load = pickle.load(file)\n",
    "        res = [i for path in self.enzymeDict_load.keys() for i in self.enzymeDict_load[path]['entry2gene']]\n",
    "        res = pd.DataFrame(res)\n",
    "        # transform hsaID to gene symbol\n",
    "        for i in range(res.shape[0]):\n",
    "            gl = [hsa2symbol.at[h, 0] for h in res.iat[i, 1].split(' ') if h in hsa2symbol.index]\n",
    "            res.iat[i, 1] = ' '.join(gl)\n",
    "        # path_entry_gene\n",
    "        # 一些hsa没有对应symboy，这导致一些entry没有对应gene，删除这样的entryID\n",
    "        self.res = res.loc[-(res[1] == '')]\n",
    "        entrygene = self.res.loc[-self.res[1].duplicated(), 1]\n",
    "        entrygene = entrygene.reset_index(drop=True).reset_index()\n",
    "        geneset2entryID = dict(zip(entrygene[1], entrygene['index']))\n",
    "        self.res['entryID'] = self.res[1].map(geneset2entryID).apply(lambda x: 'entry' + str(x))\n",
    "        # entrylist 排序\n",
    "        self.entrylist = sorted(list(set(self.res['entryID'])), key=lambda x: int(x[5:]))\n",
    "        # pathwaylist\n",
    "        pathway_nodes = pd.read_csv('data/pathway_nodes.csv', header=None)\n",
    "        self.pathwaylist = sorted(list(pathway_nodes[0]))\n",
    "        \n",
    "    def get_ppi_net(self):\n",
    "        # 加载PPI\n",
    "        ppi_net = pd.read_csv('data/protein_protein_edges.csv', sep=',', names=['p1', 'p2', 's'], header=None)\n",
    "        ppi_net_nx = nx.from_pandas_edgelist(ppi_net, 'p1', 'p2')\n",
    "        # 按照genelist排序\n",
    "        ppi_A = nd.array(nx.to_numpy_matrix(ppi_net_nx, nodelist=self.genelist_order))\n",
    "        return {'edges': ppi_net, 'A': ppi_A}\n",
    "    \n",
    "    def protein_entry_features(self):\n",
    "        # gene_to_index\n",
    "        gene_to_index = dict(zip(self.genelist_order, list(range(len(self.genelist_order)))))\n",
    "        # entry_to_gene\n",
    "        entry_to_gene = dict(zip(self.res['entryID'], self.res[1]))\n",
    "        \n",
    "        FeaturesTransformSet = namedtuple(\n",
    "            'FeaturesTransformSet',\n",
    "            field_names=['gene_to_index', 'entrylist', 'entry_to_gene'])\n",
    "        return FeaturesTransformSet(gene_to_index, self.entrylist, entry_to_gene)\n",
    "    \n",
    "    def get_entry_net(self):\n",
    "        # 创建 pathid_entryid: entryid 字典\n",
    "        tmpdict = dict(zip(self.res[0], self.res['entryID']))\n",
    "        entry_to_entry = pd.DataFrame(columns=['id1', 'id2'])\n",
    "        for k in self.enzymeDict_load.keys():\n",
    "            entry_tmp = pd.DataFrame(columns=['id1', 'id2'])\n",
    "            entry_tmp['id1'] = self.enzymeDict_load[k]['entry_entry_edges']['id1'].map(tmpdict)\n",
    "            entry_tmp['id2'] = self.enzymeDict_load[k]['entry_entry_edges']['id2'].map(tmpdict)\n",
    "            # 删除 na 值\n",
    "            entry_tmp = entry_tmp.dropna().reset_index(drop=True)\n",
    "            entry_to_entry = pd.concat([entry_to_entry, entry_tmp])\n",
    "        # 删除重复\n",
    "        entry_to_entry_drop = entry_to_entry.drop_duplicates()\n",
    "        entry_to_entry_drop = entry_to_entry_drop.loc[-(entry_to_entry_drop['id1'] == entry_to_entry_drop['id2'])]\n",
    "        # 删除重复的边 (A-B) (B-A) 会被删除\n",
    "        a = entry_to_entry_drop.apply(lambda x: str(sorted(x.tolist())), axis=1)\n",
    "        pos = pd.DataFrame(a).duplicated()\n",
    "        entry_to_entry_drop = entry_to_entry_drop.loc[-pos].reset_index(drop=True)\n",
    "        # 利用networkx生成网络， 提取网络矩阵\n",
    "        entry_net_nx = nx.from_pandas_edgelist(entry_to_entry_drop, 'id1', 'id2')\n",
    "        entry_A = nd.array(nx.to_numpy_matrix(entry_net_nx, nodelist=self.entrylist))\n",
    "\n",
    "        return {'edges': entry_to_entry_drop, 'A': entry_A}\n",
    "    \n",
    "    def entry_pathway_features(self):\n",
    "        # pathway_to_entry\n",
    "        self.res['pathwayID'] = self.res[0].apply(lambda x: x.split('_')[0])\n",
    "        pathway_to_entry = dict(self.res.groupby('pathwayID')['entryID'].apply(lambda x: ' '.join(x)))\n",
    "\n",
    "        # entry_to_index\n",
    "        entry_to_index = dict(zip(self.entrylist, list(range(len(self.entrylist)))))\n",
    "\n",
    "        FeaturesTransformSet = namedtuple(\n",
    "            'FeaturesTransformSet',\n",
    "            field_names=['pathwaylist', 'entry_to_index', 'pathway_to_entry'])\n",
    "\n",
    "        return FeaturesTransformSet(self.pathwaylist, entry_to_index, pathway_to_entry)\n",
    "    \n",
    "    def get_pathway_net(self):\n",
    "        pathway_net = pd.read_csv('data/pathway2pathway.csv', sep=',', names=['p1', 'p2'])\n",
    "        pathway_net_nx = nx.from_pandas_edgelist(pathway_net, 'p1', 'p2')\n",
    "        pathway_A = nd.array(nx.to_numpy_matrix(pathway_net_nx, nodelist=self.pathwaylist))\n",
    "        return {'edges': pathway_net, 'A': pathway_A}"
   ]
  },
  {
   "cell_type": "code",
   "execution_count": null,
   "metadata": {},
   "outputs": [],
   "source": []
  }
 ],
 "metadata": {
  "kernelspec": {
   "display_name": "Python 3",
   "language": "python",
   "name": "python3"
  },
  "language_info": {
   "codemirror_mode": {
    "name": "ipython",
    "version": 3
   },
   "file_extension": ".py",
   "mimetype": "text/x-python",
   "name": "python",
   "nbconvert_exporter": "python",
   "pygments_lexer": "ipython3",
   "version": "3.6.5"
  }
 },
 "nbformat": 4,
 "nbformat_minor": 2
}
